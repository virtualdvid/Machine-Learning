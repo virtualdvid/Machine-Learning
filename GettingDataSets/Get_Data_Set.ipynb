{
 "cells": [
  {
   "cell_type": "code",
   "execution_count": 7,
   "metadata": {},
   "outputs": [],
   "source": [
    "import random, shutil, os\n",
    "import numpy as np\n",
    "import pandas as pd\n",
    "from PIL import Image\n",
    "from google_scraper import scrape"
   ]
  },
  {
   "cell_type": "code",
   "execution_count": null,
   "metadata": {},
   "outputs": [],
   "source": [
    "df = pd.read_csv('pokemon.csv', header='infer', delimiter=',')\n",
    "pokemon_list = df['name'].tolist()\n",
    "pokemon_list"
   ]
  },
  {
   "cell_type": "code",
   "execution_count": 9,
   "metadata": {
    "scrolled": true
   },
   "outputs": [
    {
     "name": "stdout",
     "output_type": "stream",
     "text": [
      "\n",
      "===============================================\n",
      "\n",
      "[%] Successfully launched Chrome Browser\n",
      "[%] Successfully opened link.\n",
      "[%] Scrolling down.\n",
      "[%] Successfully clicked 'Show More Button'.\n",
      "[%] Reached end of Page.\n",
      "[%] Closed Browser.\n",
      "[%] Indexed 10 Images.\n",
      "\n",
      "===============================================\n",
      "\n",
      "[%] Getting Image Information.\n",
      "\n",
      "\n",
      "[%] Getting info on: https://cdn.bulbagarden.net/upload/thumb/0/0d/025Pikachu.png/250px-025Pikachu.png\n",
      "\n",
      "[%] Getting info on: http://www.pokemonget.eu/shop/979/pikachu-birthday-event-pokemon.jpg\n",
      "\n",
      "[%] Getting info on: https://pokemongohub.net/wp-content/uploads/2016/09/pokemon-go-pikachu-guide.jpg\n",
      "\n",
      "[%] Getting info on: https://i.ebayimg.com/images/g/UdYAAOSwv9hW6UFY/s-l300.jpg\n",
      "\n",
      "[%] Getting info on: https://vignette.wikia.nocookie.net/pokemon/images/4/49/Ash_Pikachu.png/revision/latest/scale-to-width-down/350?cb=20170718053548\n",
      "\n",
      "[%] Getting info on: https://cdn.ndtv.com/tech/images/gadgets/pikachu_hi_pokemon.jpg\n",
      "\n",
      "[%] Getting info on: https://sickr.files.wordpress.com/2017/02/pikachu_anime.png\n",
      "\n",
      "[%] Getting info on: https://i.ytimg.com/vi/sh7DNPoNfPI/maxresdefault.jpg\n",
      "\n",
      "[%] Getting info on: https://i.pinimg.com/originals/f5/1d/08/f51d08be05919290355ac004cdd5c2d6.png\n",
      "\n",
      "[%] Getting info on: https://cdn.bulbagarden.net/upload/thumb/2/27/Ayumi_Pikachu.png/250px-Ayumi_Pikachu.png\n",
      "[%] Downloading Image #1 from https://cdn.bulbagarden.net/upload/thumb/0/0d/025Pikachu.png/250px-025Pikachu.png\n",
      "[!] Issue Downloading: https://cdn.bulbagarden.net/upload/thumb/0/0d/025Pikachu.png/250px-025Pikachu.png\n",
      "[!] Error: HTTP Error 403: Forbidden\n",
      "[%] Downloading Image #1 from http://www.pokemonget.eu/shop/979/pikachu-birthday-event-pokemon.jpg\n",
      "[%] Downloaded File\n",
      "\n",
      "[%] Downloading Image #2 from https://pokemongohub.net/wp-content/uploads/2016/09/pokemon-go-pikachu-guide.jpg\n",
      "[!] Issue Downloading: https://pokemongohub.net/wp-content/uploads/2016/09/pokemon-go-pikachu-guide.jpg\n",
      "[!] Error: HTTP Error 403: Forbidden\n",
      "[%] Downloading Image #2 from https://i.ebayimg.com/images/g/UdYAAOSwv9hW6UFY/s-l300.jpg\n",
      "[%] Downloaded File\n",
      "\n",
      "[%] Downloading Image #3 from https://vignette.wikia.nocookie.net/pokemon/images/4/49/Ash_Pikachu.png/revision/latest/scale-to-width-down/350?cb=20170718053548\n",
      "[%] Downloaded File\n",
      "\n",
      "[%] Downloading Image #4 from https://cdn.ndtv.com/tech/images/gadgets/pikachu_hi_pokemon.jpg\n",
      "[%] Downloaded File\n",
      "\n",
      "[%] Downloading Image #5 from https://sickr.files.wordpress.com/2017/02/pikachu_anime.png\n",
      "[%] Downloaded File\n",
      "\n",
      "[%] Downloading Image #6 from https://i.ytimg.com/vi/sh7DNPoNfPI/maxresdefault.jpg\n",
      "[%] Downloaded File\n",
      "\n",
      "[%] Downloading Image #7 from https://i.pinimg.com/originals/f5/1d/08/f51d08be05919290355ac004cdd5c2d6.png\n",
      "[%] Downloaded File\n",
      "\n",
      "[%] Downloading Image #8 from https://cdn.bulbagarden.net/upload/thumb/2/27/Ayumi_Pikachu.png/250px-Ayumi_Pikachu.png\n",
      "[!] Issue Downloading: https://cdn.bulbagarden.net/upload/thumb/2/27/Ayumi_Pikachu.png/250px-Ayumi_Pikachu.png\n",
      "[!] Error: HTTP Error 403: Forbidden\n",
      "[%] Downloaded 7 images.\n"
     ]
    }
   ],
   "source": [
    "size = 224, 224\n",
    "images_per_class = 10\n",
    "class_list = ['pikachu']\n",
    "path = 'data/raw/'\n",
    "\n",
    "for img_class in class_list:\n",
    "    try:\n",
    "        scrape('pokemon '+str(img_class), int(images_per_class))\n",
    "    except Exception as e:\n",
    "        print('Error. Skipping! {} class: {}'.format(e, img_class))\n",
    "        continue\n",
    "        \n",
    "    ##Resize image\n",
    "    picture = os.listdir(path+str(img_class))\n",
    "\n",
    "    for j, pic in enumerate(picture):\n",
    "        im = Image.open(path+str(img_class)+'/'+pic).convert('RGB')\n",
    "        os.remove(path+str(img_class)+'/'+pic)\n",
    "        im.thumbnail(size, Image.ANTIALIAS)\n",
    "        im.save(path+str(img_class)+'/'+str(j)+'.jpg', \"JPEG\", optimize=True)"
   ]
  },
  {
   "cell_type": "markdown",
   "metadata": {},
   "source": [
    "### Rename folders if it's required "
   ]
  },
  {
   "cell_type": "code",
   "execution_count": 9,
   "metadata": {},
   "outputs": [],
   "source": [
    "for filename in os.listdir('data/raw'):\n",
    "    if filename.startswith(\"pokemon_\"):\n",
    "        os.rename('data/raw/'+filename, 'data/raw/'+filename[8:])"
   ]
  },
  {
   "cell_type": "markdown",
   "metadata": {},
   "source": [
    "### Clean broken images"
   ]
  },
  {
   "cell_type": "code",
   "execution_count": 2,
   "metadata": {},
   "outputs": [],
   "source": [
    "for filename in os.listdir('Pokemons'):\n",
    "    for picture in os.listdir('Pokemons/'+filename):\n",
    "        if picture.endswith('.jpg'):\n",
    "            try:\n",
    "                img=Image.open('Pokemons/'+filename+'/'+picture)\n",
    "                img.verify()\n",
    "            except:\n",
    "                os.remove('Pokemons/'+filename+'/'+picture)"
   ]
  }
 ],
 "metadata": {
  "kernelspec": {
   "display_name": "Python 3",
   "language": "python",
   "name": "python3"
  },
  "language_info": {
   "codemirror_mode": {
    "name": "ipython",
    "version": 3
   },
   "file_extension": ".py",
   "mimetype": "text/x-python",
   "name": "python",
   "nbconvert_exporter": "python",
   "pygments_lexer": "ipython3",
   "version": "3.6.6"
  }
 },
 "nbformat": 4,
 "nbformat_minor": 2
}
