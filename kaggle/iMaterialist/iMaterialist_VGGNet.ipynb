{
  "nbformat": 4,
  "nbformat_minor": 0,
  "metadata": {
    "colab": {
      "name": "iMaterialist_VGGNet.ipynb",
      "version": "0.3.2",
      "views": {},
      "default_view": {},
      "provenance": [],
      "collapsed_sections": []
    },
    "kernelspec": {
      "name": "python3",
      "display_name": "Python 3"
    },
    "accelerator": "GPU"
  },
  "cells": [
    {
      "metadata": {
        "id": "Nk1RkNHTRW6e",
        "colab_type": "code",
        "colab": {
          "autoexec": {
            "startup": false,
            "wait_interval": 0
          }
        }
      },
      "cell_type": "code",
      "source": [
        "!kill -9 -1"
      ],
      "execution_count": 0,
      "outputs": []
    },
    {
      "metadata": {
        "id": "tKjjLiPp2yxs",
        "colab_type": "text"
      },
      "cell_type": "markdown",
      "source": [
        "# **Access Colaboratory**"
      ]
    },
    {
      "metadata": {
        "id": "IG_MKc_yu8lo",
        "colab_type": "code",
        "colab": {
          "autoexec": {
            "startup": false,
            "wait_interval": 0
          }
        }
      },
      "cell_type": "code",
      "source": [
        "!apt-get install -y -qq software-properties-common python-software-properties module-init-tools\n",
        "!add-apt-repository -y ppa:alessandro-strada/ppa 2>&1 > /dev/null\n",
        "!apt-get update -qq 2>&1 > /dev/null\n",
        "!apt-get -y install -qq google-drive-ocamlfuse fuse"
      ],
      "execution_count": 0,
      "outputs": []
    },
    {
      "metadata": {
        "id": "vyRBNYNQwMUb",
        "colab_type": "code",
        "colab": {
          "autoexec": {
            "startup": false,
            "wait_interval": 0
          }
        }
      },
      "cell_type": "code",
      "source": [
        "from google.colab import auth\n",
        "auth.authenticate_user()\n",
        "\n",
        "from oauth2client.client import GoogleCredentials\n",
        "creds = GoogleCredentials.get_application_default()\n",
        "\n",
        "import getpass\n",
        "!google-drive-ocamlfuse -headless -id={creds.client_id} -secret={creds.client_secret} < /dev/null 2>&1 | grep URL\n",
        "vcode = getpass.getpass()\n",
        "!echo {vcode} | google-drive-ocamlfuse -headless -id={creds.client_id} -secret={creds.client_secret}"
      ],
      "execution_count": 0,
      "outputs": []
    },
    {
      "metadata": {
        "id": "-oeJ3oDhvD3r",
        "colab_type": "code",
        "colab": {
          "autoexec": {
            "startup": false,
            "wait_interval": 0
          }
        }
      },
      "cell_type": "code",
      "source": [
        "!mkdir -p drive\n",
        "!google-drive-ocamlfuse drive"
      ],
      "execution_count": 0,
      "outputs": []
    },
    {
      "metadata": {
        "id": "HsV5-zDayKDu",
        "colab_type": "code",
        "colab": {
          "autoexec": {
            "startup": false,
            "wait_interval": 0
          },
          "base_uri": "https://localhost:8080/",
          "height": 51
        },
        "outputId": "707824ca-82b0-4b24-9d89-219d4672f3cc",
        "executionInfo": {
          "status": "ok",
          "timestamp": 1523392821604,
          "user_tz": 420,
          "elapsed": 3171,
          "user": {
            "displayName": "david molina",
            "photoUrl": "//lh4.googleusercontent.com/-moEmUQVvimM/AAAAAAAAAAI/AAAAAAAAAA8/bAlFHmGopcQ/s50-c-k-no/photo.jpg",
            "userId": "116964020357323062668"
          }
        }
      },
      "cell_type": "code",
      "source": [
        "!ls\n",
        "!ls drive"
      ],
      "execution_count": 4,
      "outputs": [
        {
          "output_type": "stream",
          "text": [
            "datalab  drive\n",
            "Colab Notebooks  Colaboratory  iMaterialist  Project Design.odt\n"
          ],
          "name": "stdout"
        }
      ]
    },
    {
      "metadata": {
        "id": "Ji4L-vbo284T",
        "colab_type": "text"
      },
      "cell_type": "markdown",
      "source": [
        "# **Libraries**"
      ]
    },
    {
      "metadata": {
        "id": "whgAR5VjynsP",
        "colab_type": "code",
        "colab": {
          "autoexec": {
            "startup": false,
            "wait_interval": 0
          },
          "base_uri": "https://localhost:8080/",
          "height": 34
        },
        "outputId": "894006ad-f236-472d-b24f-360a1e1fce52",
        "executionInfo": {
          "status": "ok",
          "timestamp": 1523392825132,
          "user_tz": 420,
          "elapsed": 1231,
          "user": {
            "displayName": "david molina",
            "photoUrl": "//lh4.googleusercontent.com/-moEmUQVvimM/AAAAAAAAAAI/AAAAAAAAAA8/bAlFHmGopcQ/s50-c-k-no/photo.jpg",
            "userId": "116964020357323062668"
          }
        }
      },
      "cell_type": "code",
      "source": [
        "import h5py, json, time, os\n",
        "import cv2, numpy as np\n",
        "\n",
        "from keras.models import Sequential\n",
        "from keras.layers.core import Flatten, Dense, Dropout\n",
        "from keras.layers.convolutional import Convolution2D, MaxPooling2D, ZeroPadding2D\n",
        "from keras.optimizers import SGD\n",
        "\n",
        "from matplotlib import pyplot as plt\n",
        "\n",
        "from keras.utils import np_utils\n",
        "\n",
        "%matplotlib inline\n",
        "\n",
        "from keras import backend as K\n",
        "\n",
        "K.set_image_dim_ordering('th')"
      ],
      "execution_count": 5,
      "outputs": [
        {
          "output_type": "stream",
          "text": [
            "Using TensorFlow backend.\n"
          ],
          "name": "stderr"
        }
      ]
    },
    {
      "metadata": {
        "id": "-obrt1l_8kYQ",
        "colab_type": "text"
      },
      "cell_type": "markdown",
      "source": [
        "## Load Classes"
      ]
    },
    {
      "metadata": {
        "id": "UDUTQf6w9OIv",
        "colab_type": "code",
        "colab": {
          "autoexec": {
            "startup": false,
            "wait_interval": 0
          }
        }
      },
      "cell_type": "code",
      "source": [
        "os.chdir('/content/drive')"
      ],
      "execution_count": 0,
      "outputs": []
    },
    {
      "metadata": {
        "id": "ck4js6AoyyWz",
        "colab_type": "code",
        "colab": {
          "autoexec": {
            "startup": false,
            "wait_interval": 0
          },
          "base_uri": "https://localhost:8080/",
          "height": 34
        },
        "outputId": "001e69e2-d6df-4cf1-f95b-b5794eb8a322",
        "executionInfo": {
          "status": "ok",
          "timestamp": 1523392832809,
          "user_tz": 420,
          "elapsed": 1165,
          "user": {
            "displayName": "david molina",
            "photoUrl": "//lh4.googleusercontent.com/-moEmUQVvimM/AAAAAAAAAAI/AAAAAAAAAA8/bAlFHmGopcQ/s50-c-k-no/photo.jpg",
            "userId": "116964020357323062668"
          }
        }
      },
      "cell_type": "code",
      "source": [
        "test_path=\"iMaterialist/validation_dataset/\"\n",
        "test_dataset_name = 'validation_last'\n",
        "with h5py.File(test_path+'{}_labels.h5'.format(test_dataset_name), 'r') as hf:\n",
        "    test_set_y_orig = np.array(hf['{}_labels'.format(test_dataset_name)][:])\n",
        "\n",
        "classes = []\n",
        "for i in range (1,len(test_set_y_orig)):\n",
        "    if test_set_y_orig[i] not in classes:\n",
        "        classes.append(test_set_y_orig[i])\n",
        "\n",
        "classes = np.array(classes) # the list of classes\n",
        "\n",
        "print(classes.shape)\n",
        "\n",
        "test_set_y_orig = None"
      ],
      "execution_count": 7,
      "outputs": [
        {
          "output_type": "stream",
          "text": [
            "(128,)\n"
          ],
          "name": "stdout"
        }
      ]
    },
    {
      "metadata": {
        "id": "pF5AmvtS894g",
        "colab_type": "text"
      },
      "cell_type": "markdown",
      "source": [
        "## Time"
      ]
    },
    {
      "metadata": {
        "id": "n8Dlq0E29BJP",
        "colab_type": "code",
        "colab": {
          "autoexec": {
            "startup": false,
            "wait_interval": 0
          }
        }
      },
      "cell_type": "code",
      "source": [
        "def elapsed (start):\n",
        "    \"\"\"\n",
        "    Returns elapsed time in hh:mm:ss format from start time in unix format\n",
        "    \"\"\"\n",
        "    elapsed = time.time()-start\n",
        "    hours, rem = divmod(elapsed, 3600)\n",
        "    minutes, seconds = divmod(rem, 60)\n",
        "    return(\"{:0>2}:{:0>2}:{:05.2f}\".format(int(hours),int(minutes),seconds))"
      ],
      "execution_count": 0,
      "outputs": []
    },
    {
      "metadata": {
        "id": "aM7_Pe088UC0",
        "colab_type": "text"
      },
      "cell_type": "markdown",
      "source": [
        "# **Load DataSets**"
      ]
    },
    {
      "metadata": {
        "id": "bCqf5je25sTj",
        "colab_type": "code",
        "colab": {
          "autoexec": {
            "startup": false,
            "wait_interval": 0
          }
        }
      },
      "cell_type": "code",
      "source": [
        "def load_trainDS(train_path, train_dataset_name, batch_size=1000):\n",
        "    #train_path=\"iMaterialist/train_dataset/\"\n",
        "    #train_dataset_name = 'train_1'\n",
        "\n",
        "    # Train dataset\n",
        "    with h5py.File(train_path+'{}_images.h5'.format(train_dataset_name), 'r') as hf:\n",
        "        train_set_x_orig = np.array(hf['{}_images'.format(train_dataset_name)][batch_size-1000:batch_size])   \n",
        "    with h5py.File(train_path+'{}_labels.h5'.format(train_dataset_name), 'r') as hf:\n",
        "        train_set_y_orig = np.array(hf['{}_labels'.format(train_dataset_name)][batch_size-1000:batch_size])\n",
        "\n",
        "    train_set_y_orig = train_set_y_orig.reshape((1, train_set_y_orig.shape[0]))\n",
        "    \n",
        "    return train_set_x_orig, train_set_y_orig"
      ],
      "execution_count": 0,
      "outputs": []
    },
    {
      "metadata": {
        "id": "exPSTzhI7UH-",
        "colab_type": "code",
        "colab": {
          "autoexec": {
            "startup": false,
            "wait_interval": 0
          }
        }
      },
      "cell_type": "code",
      "source": [
        "def load_testDS(test_path, test_dataset_name, batch_size=1000):\n",
        "    #test_path=\"iMaterialist/validation_dataset/\"\n",
        "    #test_dataset_name = 'validation_last'\n",
        "\n",
        "    # Test dataset (validation)\n",
        "    with h5py.File(test_path+'{}_images.h5'.format(test_dataset_name), 'r') as hf:\n",
        "        test_set_x_orig = np.array(hf['{}_images'.format(test_dataset_name)][batch_size-1000:batch_size])   \n",
        "    with h5py.File(test_path+'{}_labels.h5'.format(test_dataset_name), 'r') as hf:\n",
        "        test_set_y_orig = np.array(hf['{}_labels'.format(test_dataset_name)][batch_size-1000:batch_size])\n",
        "\n",
        "    test_set_y_orig = test_set_y_orig.reshape((1, test_set_y_orig.shape[0]))\n",
        "    \n",
        "    return test_set_x_orig, test_set_y_orig"
      ],
      "execution_count": 0,
      "outputs": []
    },
    {
      "metadata": {
        "id": "DBVq076t037y",
        "colab_type": "code",
        "colab": {
          "autoexec": {
            "startup": false,
            "wait_interval": 0
          },
          "base_uri": "https://localhost:8080/",
          "height": 68
        },
        "outputId": "d40aca11-f3c1-4744-e9de-56e2a5355717",
        "executionInfo": {
          "status": "ok",
          "timestamp": 1523392875202,
          "user_tz": 420,
          "elapsed": 1282,
          "user": {
            "displayName": "david molina",
            "photoUrl": "//lh4.googleusercontent.com/-moEmUQVvimM/AAAAAAAAAAI/AAAAAAAAAA8/bAlFHmGopcQ/s50-c-k-no/photo.jpg",
            "userId": "116964020357323062668"
          }
        }
      },
      "cell_type": "code",
      "source": [
        "!free -m"
      ],
      "execution_count": 11,
      "outputs": [
        {
          "output_type": "stream",
          "text": [
            "              total        used        free      shared  buff/cache   available\r\n",
            "Mem:          13029        1454         204         223       11369       11103\r\n",
            "Swap:             0           0           0\r\n"
          ],
          "name": "stdout"
        }
      ]
    },
    {
      "metadata": {
        "id": "UrlRaiY9MisQ",
        "colab_type": "code",
        "colab": {
          "autoexec": {
            "startup": false,
            "wait_interval": 0
          }
        }
      },
      "cell_type": "code",
      "source": [
        "train_path=\"iMaterialist/train_dataset/\"\n",
        "test_path=\"iMaterialist/validation_dataset/\"\n",
        "train_dataset_name = 'train_1'\n",
        "test_dataset_name = 'validation_last'\n",
        "\n",
        "x_train, y_train = load_trainDS(train_path, train_dataset_name)\n",
        "x_test, y_test  = load_testDS(test_path, test_dataset_name)"
      ],
      "execution_count": 0,
      "outputs": []
    },
    {
      "metadata": {
        "id": "yJF57kRPQQqW",
        "colab_type": "code",
        "colab": {
          "autoexec": {
            "startup": false,
            "wait_interval": 0
          },
          "base_uri": "https://localhost:8080/",
          "height": 51
        },
        "outputId": "dd950f88-2e60-4cda-b7c9-2d97772e3f10",
        "executionInfo": {
          "status": "ok",
          "timestamp": 1523393103347,
          "user_tz": 420,
          "elapsed": 323,
          "user": {
            "displayName": "david molina",
            "photoUrl": "//lh4.googleusercontent.com/-moEmUQVvimM/AAAAAAAAAAI/AAAAAAAAAA8/bAlFHmGopcQ/s50-c-k-no/photo.jpg",
            "userId": "116964020357323062668"
          }
        }
      },
      "cell_type": "code",
      "source": [
        "print(x_train.shape)\n",
        "print(y_test.shape)"
      ],
      "execution_count": 16,
      "outputs": [
        {
          "output_type": "stream",
          "text": [
            "(1000, 300, 300, 3)\n",
            "(1000,)\n"
          ],
          "name": "stdout"
        }
      ]
    },
    {
      "metadata": {
        "id": "AGwInjmLI6A7",
        "colab_type": "code",
        "colab": {
          "autoexec": {
            "startup": false,
            "wait_interval": 0
          }
        }
      },
      "cell_type": "code",
      "source": [
        "x_train = x_train.reshape(x_train.shape[0], 3, 300, 300).astype('float32') #(1000, 1, 28, 28)\n",
        "x_test = x_test.reshape(x_test.shape[0], 3, 300, 300).astype('float32') #(1000, 1, 28, 28)"
      ],
      "execution_count": 0,
      "outputs": []
    },
    {
      "metadata": {
        "id": "qgE5YiLmP0ak",
        "colab_type": "code",
        "colab": {
          "autoexec": {
            "startup": false,
            "wait_interval": 0
          }
        }
      },
      "cell_type": "code",
      "source": [
        "x_train = x_train/255\n",
        "x_test = x_test/255\n",
        "\n",
        "y_train = np_utils.to_categorical(y_train)\n",
        "y_test = np_utils.to_categorical(y_test)\n",
        "\n",
        "num_classes = y_test.shape[1]"
      ],
      "execution_count": 0,
      "outputs": []
    },
    {
      "metadata": {
        "id": "zsXE2XTWZ18r",
        "colab_type": "code",
        "colab": {
          "autoexec": {
            "startup": false,
            "wait_interval": 0
          },
          "base_uri": "https://localhost:8080/",
          "height": 51
        },
        "outputId": "df2085d5-1689-43c5-e098-3d8edef9e0de",
        "executionInfo": {
          "status": "ok",
          "timestamp": 1523394777921,
          "user_tz": 420,
          "elapsed": 328,
          "user": {
            "displayName": "david molina",
            "photoUrl": "//lh4.googleusercontent.com/-moEmUQVvimM/AAAAAAAAAAI/AAAAAAAAAA8/bAlFHmGopcQ/s50-c-k-no/photo.jpg",
            "userId": "116964020357323062668"
          }
        }
      },
      "cell_type": "code",
      "source": [
        "print(x_train.shape)\n",
        "print(y_test.shape)"
      ],
      "execution_count": 23,
      "outputs": [
        {
          "output_type": "stream",
          "text": [
            "(1000, 3, 300, 300)\n",
            "(1000, 129, 2)\n"
          ],
          "name": "stdout"
        }
      ]
    },
    {
      "metadata": {
        "id": "eE-RDxClQI9-",
        "colab_type": "code",
        "colab": {
          "autoexec": {
            "startup": false,
            "wait_interval": 0
          },
          "base_uri": "https://localhost:8080/",
          "height": 1394
        },
        "outputId": "9b1ae0bc-0d5c-47d6-8dc6-05a1b275cfc9",
        "executionInfo": {
          "status": "ok",
          "timestamp": 1523394899623,
          "user_tz": 420,
          "elapsed": 757,
          "user": {
            "displayName": "david molina",
            "photoUrl": "//lh4.googleusercontent.com/-moEmUQVvimM/AAAAAAAAAAI/AAAAAAAAAA8/bAlFHmGopcQ/s50-c-k-no/photo.jpg",
            "userId": "116964020357323062668"
          }
        }
      },
      "cell_type": "code",
      "source": [
        "#https://gist.github.com/baraldilorenzo/07d7802847aaad0a35d3\n",
        "\n",
        "model = Sequential()\n",
        "model.add(ZeroPadding2D((1,1),input_shape=(3,300,300)))\n",
        "model.add(Convolution2D(64, (3, 3), activation='relu', name='conv1_1'))\n",
        "model.add(ZeroPadding2D((1,1)))\n",
        "model.add(Convolution2D(64, (3, 3), activation='relu', name='conv1_2'))\n",
        "model.add(MaxPooling2D((2,2), strides=(2,2)))\n",
        "\n",
        "model.add(ZeroPadding2D((1,1)))\n",
        "model.add(Convolution2D(128, (3, 3), activation='relu', name='conv2_1'))\n",
        "model.add(ZeroPadding2D((1,1)))\n",
        "model.add(Convolution2D(128, (3, 3), activation='relu', name='conv2_2'))\n",
        "model.add(MaxPooling2D((2,2), strides=(2,2)))\n",
        "\n",
        "model.add(ZeroPadding2D((1,1)))\n",
        "model.add(Convolution2D(256, (3, 3), activation='relu', name='conv3_1'))\n",
        "model.add(ZeroPadding2D((1,1)))\n",
        "model.add(Convolution2D(256, (3, 3), activation='relu', name='conv3_2'))\n",
        "model.add(ZeroPadding2D((1,1)))\n",
        "model.add(Convolution2D(256, (3, 3), activation='relu', name='conv3_3'))\n",
        "model.add(MaxPooling2D((2,2), strides=(2,2)))\n",
        "\n",
        "model.add(ZeroPadding2D((1,1)))\n",
        "model.add(Convolution2D(512, (3, 3), activation='relu', name='conv4_1'))\n",
        "model.add(ZeroPadding2D((1,1)))\n",
        "model.add(Convolution2D(512, (3, 3), activation='relu', name='conv4_2'))\n",
        "model.add(ZeroPadding2D((1,1)))\n",
        "model.add(Convolution2D(512, (3, 3), activation='relu', name='conv4_3'))\n",
        "model.add(MaxPooling2D((2,2), strides=(2,2)))\n",
        "\n",
        "model.add(ZeroPadding2D((1,1)))\n",
        "model.add(Convolution2D(512, (3, 3), activation='relu', name='conv5_1'))\n",
        "model.add(ZeroPadding2D((1,1)))\n",
        "model.add(Convolution2D(512, (3, 3), activation='relu', name='conv5_2'))\n",
        "model.add(ZeroPadding2D((1,1)))\n",
        "model.add(Convolution2D(512, (3, 3), activation='relu', name='conv5_3'))\n",
        "model.add(MaxPooling2D((2,2), strides=(2,2)))\n",
        "\n",
        "model.add(Flatten())\n",
        "model.add(Dense(4096, activation='relu'))\n",
        "model.add(Dropout(0.5))\n",
        "model.add(Dense(4096, activation='relu'))\n",
        "model.add(Dropout(0.5))\n",
        "model.add(Dense(1000, activation='softmax', name='predict'))\n",
        "\n",
        "model.compile(loss='categorical_crossentropy', optimizer='adam', metrics=['accuracy'])\n",
        "\n",
        "model.summary()"
      ],
      "execution_count": 24,
      "outputs": [
        {
          "output_type": "stream",
          "text": [
            "_________________________________________________________________\n",
            "Layer (type)                 Output Shape              Param #   \n",
            "=================================================================\n",
            "zero_padding2d_14 (ZeroPaddi (None, 3, 302, 302)       0         \n",
            "_________________________________________________________________\n",
            "conv1_1 (Conv2D)             (None, 64, 300, 300)      1792      \n",
            "_________________________________________________________________\n",
            "zero_padding2d_15 (ZeroPaddi (None, 64, 302, 302)      0         \n",
            "_________________________________________________________________\n",
            "conv1_2 (Conv2D)             (None, 64, 300, 300)      36928     \n",
            "_________________________________________________________________\n",
            "max_pooling2d_6 (MaxPooling2 (None, 64, 150, 150)      0         \n",
            "_________________________________________________________________\n",
            "zero_padding2d_16 (ZeroPaddi (None, 64, 152, 152)      0         \n",
            "_________________________________________________________________\n",
            "conv2_1 (Conv2D)             (None, 128, 150, 150)     73856     \n",
            "_________________________________________________________________\n",
            "zero_padding2d_17 (ZeroPaddi (None, 128, 152, 152)     0         \n",
            "_________________________________________________________________\n",
            "conv2_2 (Conv2D)             (None, 128, 150, 150)     147584    \n",
            "_________________________________________________________________\n",
            "max_pooling2d_7 (MaxPooling2 (None, 128, 75, 75)       0         \n",
            "_________________________________________________________________\n",
            "zero_padding2d_18 (ZeroPaddi (None, 128, 77, 77)       0         \n",
            "_________________________________________________________________\n",
            "conv3_1 (Conv2D)             (None, 256, 75, 75)       295168    \n",
            "_________________________________________________________________\n",
            "zero_padding2d_19 (ZeroPaddi (None, 256, 77, 77)       0         \n",
            "_________________________________________________________________\n",
            "conv3_2 (Conv2D)             (None, 256, 75, 75)       590080    \n",
            "_________________________________________________________________\n",
            "zero_padding2d_20 (ZeroPaddi (None, 256, 77, 77)       0         \n",
            "_________________________________________________________________\n",
            "conv3_3 (Conv2D)             (None, 256, 75, 75)       590080    \n",
            "_________________________________________________________________\n",
            "max_pooling2d_8 (MaxPooling2 (None, 256, 37, 37)       0         \n",
            "_________________________________________________________________\n",
            "zero_padding2d_21 (ZeroPaddi (None, 256, 39, 39)       0         \n",
            "_________________________________________________________________\n",
            "conv4_1 (Conv2D)             (None, 512, 37, 37)       1180160   \n",
            "_________________________________________________________________\n",
            "zero_padding2d_22 (ZeroPaddi (None, 512, 39, 39)       0         \n",
            "_________________________________________________________________\n",
            "conv4_2 (Conv2D)             (None, 512, 37, 37)       2359808   \n",
            "_________________________________________________________________\n",
            "zero_padding2d_23 (ZeroPaddi (None, 512, 39, 39)       0         \n",
            "_________________________________________________________________\n",
            "conv4_3 (Conv2D)             (None, 512, 37, 37)       2359808   \n",
            "_________________________________________________________________\n",
            "max_pooling2d_9 (MaxPooling2 (None, 512, 18, 18)       0         \n",
            "_________________________________________________________________\n",
            "zero_padding2d_24 (ZeroPaddi (None, 512, 20, 20)       0         \n",
            "_________________________________________________________________\n",
            "conv5_1 (Conv2D)             (None, 512, 18, 18)       2359808   \n",
            "_________________________________________________________________\n",
            "zero_padding2d_25 (ZeroPaddi (None, 512, 20, 20)       0         \n",
            "_________________________________________________________________\n",
            "conv5_2 (Conv2D)             (None, 512, 18, 18)       2359808   \n",
            "_________________________________________________________________\n",
            "zero_padding2d_26 (ZeroPaddi (None, 512, 20, 20)       0         \n",
            "_________________________________________________________________\n",
            "conv5_3 (Conv2D)             (None, 512, 18, 18)       2359808   \n",
            "_________________________________________________________________\n",
            "max_pooling2d_10 (MaxPooling (None, 512, 9, 9)         0         \n",
            "_________________________________________________________________\n",
            "flatten_2 (Flatten)          (None, 41472)             0         \n",
            "_________________________________________________________________\n",
            "dense_3 (Dense)              (None, 4096)              169873408 \n",
            "_________________________________________________________________\n",
            "dropout_3 (Dropout)          (None, 4096)              0         \n",
            "_________________________________________________________________\n",
            "dense_4 (Dense)              (None, 4096)              16781312  \n",
            "_________________________________________________________________\n",
            "dropout_4 (Dropout)          (None, 4096)              0         \n",
            "_________________________________________________________________\n",
            "predict (Dense)              (None, 1000)              4097000   \n",
            "=================================================================\n",
            "Total params: 205,466,408\n",
            "Trainable params: 205,466,408\n",
            "Non-trainable params: 0\n",
            "_________________________________________________________________\n"
          ],
          "name": "stdout"
        }
      ]
    },
    {
      "metadata": {
        "id": "XStzwifmS9NY",
        "colab_type": "code",
        "colab": {
          "autoexec": {
            "startup": false,
            "wait_interval": 0
          },
          "base_uri": "https://localhost:8080/",
          "height": 659
        },
        "outputId": "1487af20-4d82-452b-dd11-6e5529e801db",
        "executionInfo": {
          "status": "error",
          "timestamp": 1523393124750,
          "user_tz": 420,
          "elapsed": 1147,
          "user": {
            "displayName": "david molina",
            "photoUrl": "//lh4.googleusercontent.com/-moEmUQVvimM/AAAAAAAAAAI/AAAAAAAAAA8/bAlFHmGopcQ/s50-c-k-no/photo.jpg",
            "userId": "116964020357323062668"
          }
        }
      },
      "cell_type": "code",
      "source": [
        "model.fit(x_train, y_train, validation_data=(x_test, y_test), epochs=10, batch_size=200)"
      ],
      "execution_count": 20,
      "outputs": [
        {
          "output_type": "error",
          "ename": "ValueError",
          "evalue": "ignored",
          "traceback": [
            "\u001b[0;31m---------------------------------------------------------------------------\u001b[0m",
            "\u001b[0;31mValueError\u001b[0m                                Traceback (most recent call last)",
            "\u001b[0;32m<ipython-input-20-71bb35f98111>\u001b[0m in \u001b[0;36m<module>\u001b[0;34m()\u001b[0m\n\u001b[0;32m----> 1\u001b[0;31m \u001b[0mmodel\u001b[0m\u001b[0;34m.\u001b[0m\u001b[0mfit\u001b[0m\u001b[0;34m(\u001b[0m\u001b[0mx_train\u001b[0m\u001b[0;34m,\u001b[0m \u001b[0my_train\u001b[0m\u001b[0;34m,\u001b[0m \u001b[0mvalidation_data\u001b[0m\u001b[0;34m=\u001b[0m\u001b[0;34m(\u001b[0m\u001b[0mx_test\u001b[0m\u001b[0;34m,\u001b[0m \u001b[0my_test\u001b[0m\u001b[0;34m)\u001b[0m\u001b[0;34m,\u001b[0m \u001b[0mepochs\u001b[0m\u001b[0;34m=\u001b[0m\u001b[0;36m10\u001b[0m\u001b[0;34m,\u001b[0m \u001b[0mbatch_size\u001b[0m\u001b[0;34m=\u001b[0m\u001b[0;36m200\u001b[0m\u001b[0;34m,\u001b[0m \u001b[0mverbose\u001b[0m\u001b[0;34m=\u001b[0m\u001b[0;36m1\u001b[0m\u001b[0;34m)\u001b[0m\u001b[0;34m\u001b[0m\u001b[0m\n\u001b[0m",
            "\u001b[0;32m/usr/local/lib/python3.6/dist-packages/keras/models.py\u001b[0m in \u001b[0;36mfit\u001b[0;34m(self, x, y, batch_size, epochs, verbose, callbacks, validation_split, validation_data, shuffle, class_weight, sample_weight, initial_epoch, steps_per_epoch, validation_steps, **kwargs)\u001b[0m\n\u001b[1;32m    961\u001b[0m                               \u001b[0minitial_epoch\u001b[0m\u001b[0;34m=\u001b[0m\u001b[0minitial_epoch\u001b[0m\u001b[0;34m,\u001b[0m\u001b[0;34m\u001b[0m\u001b[0m\n\u001b[1;32m    962\u001b[0m                               \u001b[0msteps_per_epoch\u001b[0m\u001b[0;34m=\u001b[0m\u001b[0msteps_per_epoch\u001b[0m\u001b[0;34m,\u001b[0m\u001b[0;34m\u001b[0m\u001b[0m\n\u001b[0;32m--> 963\u001b[0;31m                               validation_steps=validation_steps)\n\u001b[0m\u001b[1;32m    964\u001b[0m \u001b[0;34m\u001b[0m\u001b[0m\n\u001b[1;32m    965\u001b[0m     def evaluate(self, x=None, y=None,\n",
            "\u001b[0;32m/usr/local/lib/python3.6/dist-packages/keras/engine/training.py\u001b[0m in \u001b[0;36mfit\u001b[0;34m(self, x, y, batch_size, epochs, verbose, callbacks, validation_split, validation_data, shuffle, class_weight, sample_weight, initial_epoch, steps_per_epoch, validation_steps, **kwargs)\u001b[0m\n\u001b[1;32m   1628\u001b[0m             \u001b[0msample_weight\u001b[0m\u001b[0;34m=\u001b[0m\u001b[0msample_weight\u001b[0m\u001b[0;34m,\u001b[0m\u001b[0;34m\u001b[0m\u001b[0m\n\u001b[1;32m   1629\u001b[0m             \u001b[0mclass_weight\u001b[0m\u001b[0;34m=\u001b[0m\u001b[0mclass_weight\u001b[0m\u001b[0;34m,\u001b[0m\u001b[0;34m\u001b[0m\u001b[0m\n\u001b[0;32m-> 1630\u001b[0;31m             batch_size=batch_size)\n\u001b[0m\u001b[1;32m   1631\u001b[0m         \u001b[0;31m# Prepare validation data.\u001b[0m\u001b[0;34m\u001b[0m\u001b[0;34m\u001b[0m\u001b[0m\n\u001b[1;32m   1632\u001b[0m         \u001b[0mdo_validation\u001b[0m \u001b[0;34m=\u001b[0m \u001b[0;32mFalse\u001b[0m\u001b[0;34m\u001b[0m\u001b[0m\n",
            "\u001b[0;32m/usr/local/lib/python3.6/dist-packages/keras/engine/training.py\u001b[0m in \u001b[0;36m_standardize_user_data\u001b[0;34m(self, x, y, sample_weight, class_weight, check_array_lengths, batch_size)\u001b[0m\n\u001b[1;32m   1478\u001b[0m                                     \u001b[0moutput_shapes\u001b[0m\u001b[0;34m,\u001b[0m\u001b[0;34m\u001b[0m\u001b[0m\n\u001b[1;32m   1479\u001b[0m                                     \u001b[0mcheck_batch_axis\u001b[0m\u001b[0;34m=\u001b[0m\u001b[0;32mFalse\u001b[0m\u001b[0;34m,\u001b[0m\u001b[0;34m\u001b[0m\u001b[0m\n\u001b[0;32m-> 1480\u001b[0;31m                                     exception_prefix='target')\n\u001b[0m\u001b[1;32m   1481\u001b[0m         sample_weights = _standardize_sample_weights(sample_weight,\n\u001b[1;32m   1482\u001b[0m                                                      self._feed_output_names)\n",
            "\u001b[0;32m/usr/local/lib/python3.6/dist-packages/keras/engine/training.py\u001b[0m in \u001b[0;36m_standardize_input_data\u001b[0;34m(data, names, shapes, check_batch_axis, exception_prefix)\u001b[0m\n\u001b[1;32m    111\u001b[0m                         \u001b[0;34m': expected '\u001b[0m \u001b[0;34m+\u001b[0m \u001b[0mnames\u001b[0m\u001b[0;34m[\u001b[0m\u001b[0mi\u001b[0m\u001b[0;34m]\u001b[0m \u001b[0;34m+\u001b[0m \u001b[0;34m' to have '\u001b[0m \u001b[0;34m+\u001b[0m\u001b[0;34m\u001b[0m\u001b[0m\n\u001b[1;32m    112\u001b[0m                         \u001b[0mstr\u001b[0m\u001b[0;34m(\u001b[0m\u001b[0mlen\u001b[0m\u001b[0;34m(\u001b[0m\u001b[0mshape\u001b[0m\u001b[0;34m)\u001b[0m\u001b[0;34m)\u001b[0m \u001b[0;34m+\u001b[0m \u001b[0;34m' dimensions, but got array '\u001b[0m\u001b[0;34m\u001b[0m\u001b[0m\n\u001b[0;32m--> 113\u001b[0;31m                         'with shape ' + str(data_shape))\n\u001b[0m\u001b[1;32m    114\u001b[0m                 \u001b[0;32mif\u001b[0m \u001b[0;32mnot\u001b[0m \u001b[0mcheck_batch_axis\u001b[0m\u001b[0;34m:\u001b[0m\u001b[0;34m\u001b[0m\u001b[0m\n\u001b[1;32m    115\u001b[0m                     \u001b[0mdata_shape\u001b[0m \u001b[0;34m=\u001b[0m \u001b[0mdata_shape\u001b[0m\u001b[0;34m[\u001b[0m\u001b[0;36m1\u001b[0m\u001b[0;34m:\u001b[0m\u001b[0;34m]\u001b[0m\u001b[0;34m\u001b[0m\u001b[0m\n",
            "\u001b[0;31mValueError\u001b[0m: Error when checking target: expected predict to have 2 dimensions, but got array with shape (1, 1000, 129)"
          ]
        }
      ]
    },
    {
      "metadata": {
        "id": "89n7tsgdkuDx",
        "colab_type": "code",
        "colab": {
          "autoexec": {
            "startup": false,
            "wait_interval": 0
          }
        }
      },
      "cell_type": "code",
      "source": [
        "model.save('my_model.h5')  # creates a HDF5 file 'my_model.h5'\n",
        "del model  # deletes the existing model\n",
        "\n",
        "# returns a compiled model\n",
        "# identical to the previous one\n",
        "model = load_model('my_model.h5')"
      ],
      "execution_count": 0,
      "outputs": []
    },
    {
      "metadata": {
        "id": "KIMPB67bku_b",
        "colab_type": "code",
        "colab": {
          "autoexec": {
            "startup": false,
            "wait_interval": 0
          }
        }
      },
      "cell_type": "code",
      "source": [
        "scores = model.evaluate(x_test, y_test, verbose=0)\n",
        "print(\"\\nacc: %.2f%%\" % (scores[1]*100))"
      ],
      "execution_count": 0,
      "outputs": []
    }
  ]
}